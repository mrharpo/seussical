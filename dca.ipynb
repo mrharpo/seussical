{
 "cells": [
  {
   "cell_type": "code",
   "execution_count": 1,
   "id": "ff4b02f0",
   "metadata": {},
   "outputs": [],
   "source": [
    "from sqlmodel import Session\n",
    "from qlab.database_sqlmodel import CueDatabase\n",
    "\n",
    "DATABASE = 'mix/seuss11.tmix'\n"
   ]
  },
  {
   "cell_type": "code",
   "execution_count": 2,
   "id": "6a9f19f1",
   "metadata": {},
   "outputs": [],
   "source": [
    "from qlab import dca\n",
    "script = dca.open_script('scripts/seussical.fountain')\n",
    "cues = dca.generate_dca_cues(script, DATABASE)"
   ]
  },
  {
   "cell_type": "code",
   "execution_count": 3,
   "id": "6cbe1646",
   "metadata": {},
   "outputs": [],
   "source": [
    "# cues[10]"
   ]
  },
  {
   "cell_type": "code",
   "execution_count": 4,
   "id": "227360c6",
   "metadata": {},
   "outputs": [],
   "source": [
    "# cues[:10]\n",
    "with Session(CueDatabase(DATABASE).engine) as session:\n",
    "    session.add_all(cues)\n",
    "    session.commit()\n"
   ]
  }
 ],
 "metadata": {
  "kernelspec": {
   "display_name": "seussical (3.14.0)",
   "language": "python",
   "name": "python3"
  },
  "language_info": {
   "codemirror_mode": {
    "name": "ipython",
    "version": 3
   },
   "file_extension": ".py",
   "mimetype": "text/x-python",
   "name": "python",
   "nbconvert_exporter": "python",
   "pygments_lexer": "ipython3",
   "version": "3.14.0"
  }
 },
 "nbformat": 4,
 "nbformat_minor": 5
}
