{
 "cells": [
  {
   "cell_type": "code",
   "execution_count": 1,
   "id": "32ca86ac",
   "metadata": {},
   "outputs": [],
   "source": [
    "from qlab.osc import Client\n",
    "# from qlab.eos import Eos"
   ]
  },
  {
   "cell_type": "code",
   "execution_count": null,
   "id": "91f29961",
   "metadata": {},
   "outputs": [],
   "source": [
    "eos = Client('192.168.50.122', 8000)"
   ]
  },
  {
   "cell_type": "code",
   "execution_count": 8,
   "id": "ff57d307",
   "metadata": {},
   "outputs": [],
   "source": [
    "from pythonosc.udp_client import SimpleUDPClient\n",
    "\n",
    "ip = '192.168.50.122'\n",
    "port = 8000\n",
    "\n",
    "udp = SimpleUDPClient(ip, port)"
   ]
  },
  {
   "cell_type": "code",
   "execution_count": 9,
   "id": "a7608b5d",
   "metadata": {},
   "outputs": [],
   "source": [
    "udp.send_message('/eos/cue/9/fire', None)"
   ]
  },
  {
   "cell_type": "code",
   "execution_count": 5,
   "id": "c25264b2",
   "metadata": {},
   "outputs": [],
   "source": [
    "from pythonosc.tcp_client import SimpleTCPClient\n",
    "ip = '192.168.50.122'\n",
    "\n",
    "port = 8888\n",
    "\n",
    "tcp = SimpleTCPClient(ip, port)"
   ]
  },
  {
   "cell_type": "code",
   "execution_count": 20,
   "id": "f4c209d4",
   "metadata": {},
   "outputs": [],
   "source": [
    "tcp.send_message('/eos/cue/5/fire', 1)\n",
    "# tcp.send_message('/eos/cue/go', 1)"
   ]
  },
  {
   "cell_type": "code",
   "execution_count": 32,
   "id": "7fd09a9b",
   "metadata": {},
   "outputs": [],
   "source": [
    "tcp.send_message(f'/eos/newcmd', 'Record Cue 13 Label SUCCESS!!#')"
   ]
  }
 ],
 "metadata": {
  "kernelspec": {
   "display_name": "seussical (3.14.0)",
   "language": "python",
   "name": "python3"
  },
  "language_info": {
   "codemirror_mode": {
    "name": "ipython",
    "version": 3
   },
   "file_extension": ".py",
   "mimetype": "text/x-python",
   "name": "python",
   "nbconvert_exporter": "python",
   "pygments_lexer": "ipython3",
   "version": "3.14.0"
  }
 },
 "nbformat": 4,
 "nbformat_minor": 5
}
